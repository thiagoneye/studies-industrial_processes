{
 "cells": [
  {
   "cell_type": "markdown",
   "metadata": {},
   "source": [
    "## Manutenção Preditiva com Análise de Sobrevivência\n",
    "\n",
    "**Objetivo:** Estimar a Vida Útil Remanescente (RUL) de rolamentos utilizando modelos de sobrevivência, que são projetados para modelar o \"tempo até um evento\".\n",
    "\n",
    "**Contexto:** Diferente da regressão, que prevê um valor numérico direto (ex: 150 ciclos restantes), a análise de sobrevivência modela a **probabilidade de um componente sobreviver além de um certo tempo**. Essa abordagem é poderosa por duas razões principais:\n",
    "\n",
    "1.  **Lida com Dados Censurados:** Ela consegue usar informações de componentes que **ainda não falharam** até o final do período de coleta de dados. Esses dados são chamados de \"censurados à direita\" e são extremamente comuns e valiosos.\n",
    "2.  **Fornece uma Visão Probabilística:** Em vez de um único número, o modelo nos dá uma curva de probabilidade de sobrevivência, o que permite uma tomada de decisão mais rica (ex: \"qual a probabilidade deste rolamento falhar nos próximos 50 ciclos?\").\n",
    "\n",
    "**Terminologia Chave:**\n",
    "- **Evento:** A falha do rolamento.\n",
    "- **Duração (ou Tempo):** O número de ciclos de operação até o evento ou até o fim da observação.\n",
    "- **Censura:** Ocorre quando o evento (falha) não foi observado para um componente. Sabemos que ele sobreviveu até um certo ponto, mas não sabemos o tempo exato de sua falha.\n",
    "\n",
    "**Modelos Utilizados:**\n",
    "- **Kaplan-Meier:** Para uma análise não-paramétrica da curva de sobrevivência da população geral de rolamentos.\n",
    "- **Cox Proportional Hazards (Cox PH):** Para construir um modelo preditivo que relaciona as variáveis dos sensores (temperatura, vibração) ao risco de falha."
   ]
  },
  {
   "cell_type": "markdown",
   "metadata": {},
   "source": [
    "### Configuração e Bibliotecas\n",
    "\n",
    "Vamos precisar da biblioteca `lifelines`, que é o padrão para análise de sobrevivência em Python."
   ]
  },
  {
   "cell_type": "code",
   "execution_count": 1,
   "metadata": {},
   "outputs": [],
   "source": [
    "# Instale a biblioteca se ainda não tiver\n",
    "# !pip install lifelines\n",
    "\n",
    "import pandas as pd\n",
    "import numpy as np\n",
    "import matplotlib.pyplot as plt\n",
    "import seaborn as sns\n",
    "\n",
    "# Importações da biblioteca Lifelines\n",
    "from lifelines import KaplanMeierFitter, CoxPHFitter\n",
    "\n",
    "# Configurações de visualização\n",
    "plt.rcParams[\"figure.figsize\"] = (12, 6)"
   ]
  },
  {
   "cell_type": "markdown",
   "metadata": {},
   "source": [
    "### Geração de Dados Sintéticos\n",
    "\n",
    "Para a análise de sobrevivência, precisamos de um formato de dados diferente. Para cada rolamento, teremos **uma única linha** resumindo sua vida útil, contendo:\n",
    "- `bearing_id`: Identificador único.\n",
    "- `duration`: Total de ciclos operados (seja até a falha ou até o fim da observação).\n",
    "- `event_observed`: Um marcador (1 se falhou, 0 se foi censurado).\n",
    "- Features/Covariáveis: Estatísticas que resumem as condições de operação (ex: temperatura média, vibração máxima)."
   ]
  },
  {
   "cell_type": "code",
   "execution_count": 2,
   "metadata": {},
   "outputs": [
    {
     "name": "stdout",
     "output_type": "stream",
     "text": [
      "Amostra de dados gerados:\n"
     ]
    },
    {
     "data": {
      "application/vnd.microsoft.datawrangler.viewer.v0+json": {
       "columns": [
        {
         "name": "index",
         "rawType": "int64",
         "type": "integer"
        },
        {
         "name": "bearing_id",
         "rawType": "int64",
         "type": "integer"
        },
        {
         "name": "mean_temperature",
         "rawType": "float64",
         "type": "float"
        },
        {
         "name": "max_vibration",
         "rawType": "float64",
         "type": "float"
        },
        {
         "name": "duration",
         "rawType": "int64",
         "type": "integer"
        },
        {
         "name": "event_observed",
         "rawType": "int64",
         "type": "integer"
        }
       ],
       "ref": "119f84d5-42ef-468b-88a4-e5a30ae232c8",
       "rows": [
        [
         "0",
         "1",
         "68.13434082545777",
         "1.1494038611045478",
         "123",
         "1"
        ],
        [
         "1",
         "2",
         "61.18307669905542",
         "0.8919333686040413",
         "10",
         "1"
        ],
        [
         "2",
         "3",
         "73.74947399907649",
         "0.9562669485895461",
         "43",
         "1"
        ],
        [
         "3",
         "4",
         "66.9988572586825",
         "2.0115204831312368",
         "211",
         "1"
        ],
        [
         "4",
         "5",
         "71.89289244940088",
         "2.1399330425655463",
         "170",
         "1"
        ]
       ],
       "shape": {
        "columns": 5,
        "rows": 5
       }
      },
      "text/html": [
       "<div>\n",
       "<style scoped>\n",
       "    .dataframe tbody tr th:only-of-type {\n",
       "        vertical-align: middle;\n",
       "    }\n",
       "\n",
       "    .dataframe tbody tr th {\n",
       "        vertical-align: top;\n",
       "    }\n",
       "\n",
       "    .dataframe thead th {\n",
       "        text-align: right;\n",
       "    }\n",
       "</style>\n",
       "<table border=\"1\" class=\"dataframe\">\n",
       "  <thead>\n",
       "    <tr style=\"text-align: right;\">\n",
       "      <th></th>\n",
       "      <th>bearing_id</th>\n",
       "      <th>mean_temperature</th>\n",
       "      <th>max_vibration</th>\n",
       "      <th>duration</th>\n",
       "      <th>event_observed</th>\n",
       "    </tr>\n",
       "  </thead>\n",
       "  <tbody>\n",
       "    <tr>\n",
       "      <th>0</th>\n",
       "      <td>1</td>\n",
       "      <td>68.134341</td>\n",
       "      <td>1.149404</td>\n",
       "      <td>123</td>\n",
       "      <td>1</td>\n",
       "    </tr>\n",
       "    <tr>\n",
       "      <th>1</th>\n",
       "      <td>2</td>\n",
       "      <td>61.183077</td>\n",
       "      <td>0.891933</td>\n",
       "      <td>10</td>\n",
       "      <td>1</td>\n",
       "    </tr>\n",
       "    <tr>\n",
       "      <th>2</th>\n",
       "      <td>3</td>\n",
       "      <td>73.749474</td>\n",
       "      <td>0.956267</td>\n",
       "      <td>43</td>\n",
       "      <td>1</td>\n",
       "    </tr>\n",
       "    <tr>\n",
       "      <th>3</th>\n",
       "      <td>4</td>\n",
       "      <td>66.998857</td>\n",
       "      <td>2.011520</td>\n",
       "      <td>211</td>\n",
       "      <td>1</td>\n",
       "    </tr>\n",
       "    <tr>\n",
       "      <th>4</th>\n",
       "      <td>5</td>\n",
       "      <td>71.892892</td>\n",
       "      <td>2.139933</td>\n",
       "      <td>170</td>\n",
       "      <td>1</td>\n",
       "    </tr>\n",
       "  </tbody>\n",
       "</table>\n",
       "</div>"
      ],
      "text/plain": [
       "   bearing_id  mean_temperature  max_vibration  duration  event_observed\n",
       "0           1         68.134341       1.149404       123               1\n",
       "1           2         61.183077       0.891933        10               1\n",
       "2           3         73.749474       0.956267        43               1\n",
       "3           4         66.998857       2.011520       211               1\n",
       "4           5         71.892892       2.139933       170               1"
      ]
     },
     "metadata": {},
     "output_type": "display_data"
    },
    {
     "name": "stdout",
     "output_type": "stream",
     "text": [
      "\n",
      "Total de rolamentos: 200\n",
      "Rolamentos que falharam: 188\n",
      "Rolamentos censurados (ainda em operação): 12\n"
     ]
    }
   ],
   "source": [
    "def generate_survival_data(n_bearings=100, observation_period=300):\n",
    "    \"\"\"Gera dados de sobrevivência para múltiplos rolamentos.\"\"\"\n",
    "    data = []\n",
    "    for i in range(1, n_bearings + 1):\n",
    "        # Simula características operacionais para cada rolamento\n",
    "        avg_temp_baseline = np.random.uniform(60, 75)\n",
    "        max_vib_factor = np.random.uniform(0.5, 2.0)  # Fator de severidade\n",
    "\n",
    "        # O tempo de vida real é influenciado pelas condições operacionais\n",
    "        # Temperaturas mais altas e vibração maior reduzem a vida útil\n",
    "        true_lifetime = (\n",
    "            np.random.weibull(2) * 200\n",
    "            - (avg_temp_baseline - 60) * 5\n",
    "            - (max_vib_factor - 1) * 40\n",
    "        )\n",
    "        true_lifetime = max(10, int(true_lifetime))\n",
    "\n",
    "        event_observed = 1\n",
    "        duration = true_lifetime\n",
    "\n",
    "        # Aplica a censura: se a vida útil real for maior que o período de observação\n",
    "        if true_lifetime > observation_period:\n",
    "            event_observed = 0\n",
    "            duration = observation_period\n",
    "\n",
    "        # Gera as features resumidas\n",
    "        mean_temp = avg_temp_baseline + (duration / 250) * 5  # Temp aumenta com o tempo\n",
    "        max_vib = max_vib_factor * np.exp(duration / 200) / 2\n",
    "\n",
    "        data.append(\n",
    "            {\n",
    "                \"bearing_id\": i,\n",
    "                \"mean_temperature\": mean_temp,\n",
    "                \"max_vibration\": max_vib,\n",
    "                \"duration\": duration,  # T, tempo até o evento ou censura\n",
    "                \"event_observed\": event_observed,  # E, marcador de evento\n",
    "            }\n",
    "        )\n",
    "\n",
    "    return pd.DataFrame(data)\n",
    "\n",
    "\n",
    "df_survival = generate_survival_data(n_bearings=200)\n",
    "\n",
    "# Mostra rolamentos que falharam (event_observed=1) e os que foram censurados (event_observed=0)\n",
    "print(\"Amostra de dados gerados:\")\n",
    "display(df_survival.head())\n",
    "\n",
    "censored_count = df_survival[\"event_observed\"].value_counts()[0]\n",
    "print(f\"\\nTotal de rolamentos: {len(df_survival)}\")\n",
    "print(f\"Rolamentos que falharam: {len(df_survival) - censored_count}\")\n",
    "print(f\"Rolamentos censurados (ainda em operação): {censored_count}\")"
   ]
  },
  {
   "cell_type": "markdown",
   "metadata": {},
   "source": [
    "### Análise Não Paramétrica com a Curva de Kaplan-Meier\n",
    "\n",
    "Primeiro, vamos ignorar as features (temperatura e vibração) e analisar a sobrevivência da \"frota\" inteira de rolamentos. A curva de Kaplan-Meier nos mostra a probabilidade de um rolamento qualquer sobreviver além de um determinado número de ciclos."
   ]
  },
  {
   "cell_type": "code",
   "execution_count": null,
   "metadata": {},
   "outputs": [
    {
     "name": "stdout",
     "output_type": "stream",
     "text": [
      "\n",
      "A mediana do tempo de vida da frota é de aproximadamente 114 ciclos.\n"
     ]
    },
    {
     "data": {
      "image/png": "[encoded data removed]",
      "text/plain": [
       "<Figure size 1200x600 with 1 Axes>"
      ]
     },
     "metadata": {},
     "output_type": "display_data"
    }
   ],
   "source": [
    "# Instancia e treina o estimador Kaplan-Meier\n",
    "kmf = KaplanMeierFitter()\n",
    "kmf.fit(durations=df_survival[\"duration\"], event_observed=df_survival[\"event_observed\"])\n",
    "\n",
    "# Plota a curva de sobrevivência\n",
    "kmf.plot_survival_function()\n",
    "plt.title(\"Curva de Sobrevivência de Kaplan-Meier para a Frota de Rolamentos\")\n",
    "plt.xlabel(\"Ciclos de Operação\")\n",
    "plt.ylabel(\"Probabilidade de Sobrevivência\")\n",
    "\n",
    "# A mediana do tempo de vida é onde a probabilidade de sobrevivência é 0.5 (50%)\n",
    "median_lifetime = kmf.median_survival_time_\n",
    "print(\n",
    "    f\"\\nA mediana do tempo de vida da frota é de aproximadamente {median_lifetime:.0f} ciclos.\"\n",
    ")"
   ]
  },
  {
   "cell_type": "markdown",
   "metadata": {},
   "source": [
    "**Interpretação:** A curva mostra que, no início, 100% dos rolamentos estão funcionando. Com o passar dos ciclos, essa probabilidade diminui. A \"mediana de sobrevivência\" de ~208 ciclos significa que esperamos que 50% dos rolamentos tenham falhado por volta deste ponto."
   ]
  },
  {
   "cell_type": "markdown",
   "metadata": {},
   "source": [
    "### Modelo Preditivo com Cox Proportional Hazards\n",
    "\n",
    "Agora, vamos construir um modelo que usa as features `mean_temperature` e `max_vibration` para prever o risco de falha. O modelo de Cox estima o \"risco\" (hazard) e nos diz como cada feature impacta esse risco.\n",
    "\n",
    "O resultado principal é o **Hazard Ratio (HR)**, ou `exp(coef)`:\n",
    "- **HR > 1:** Um aumento na feature aumenta o risco de falha.\n",
    "- **HR < 1:** Um aumento na feature diminui o risco de falha (efeito protetor).\n",
    "- **HR = 1:** A feature não tem efeito no risco."
   ]
  },
  {
   "cell_type": "code",
   "execution_count": 4,
   "metadata": {},
   "outputs": [
    {
     "name": "stdout",
     "output_type": "stream",
     "text": [
      "Resumo do Modelo Cox Proportional Hazards:\n"
     ]
    },
    {
     "data": {
      "text/html": [
       "<div>\n",
       "<style scoped>\n",
       "    .dataframe tbody tr th:only-of-type {\n",
       "        vertical-align: middle;\n",
       "    }\n",
       "\n",
       "    .dataframe tbody tr th {\n",
       "        vertical-align: top;\n",
       "    }\n",
       "\n",
       "    .dataframe thead th {\n",
       "        text-align: right;\n",
       "    }\n",
       "</style>\n",
       "<table border=\"1\" class=\"dataframe\">\n",
       "  <tbody>\n",
       "    <tr>\n",
       "      <th>model</th>\n",
       "      <td>lifelines.CoxPHFitter</td>\n",
       "    </tr>\n",
       "    <tr>\n",
       "      <th>duration col</th>\n",
       "      <td>'duration'</td>\n",
       "    </tr>\n",
       "    <tr>\n",
       "      <th>event col</th>\n",
       "      <td>'event_observed'</td>\n",
       "    </tr>\n",
       "    <tr>\n",
       "      <th>baseline estimation</th>\n",
       "      <td>breslow</td>\n",
       "    </tr>\n",
       "    <tr>\n",
       "      <th>number of observations</th>\n",
       "      <td>200</td>\n",
       "    </tr>\n",
       "    <tr>\n",
       "      <th>number of events observed</th>\n",
       "      <td>188</td>\n",
       "    </tr>\n",
       "    <tr>\n",
       "      <th>partial log-likelihood</th>\n",
       "      <td>-796.18</td>\n",
       "    </tr>\n",
       "    <tr>\n",
       "      <th>time fit was run</th>\n",
       "      <td>2025-10-06 06:09:44 UTC</td>\n",
       "    </tr>\n",
       "  </tbody>\n",
       "</table>\n",
       "</div><table border=\"1\" class=\"dataframe\">\n",
       "  <thead>\n",
       "    <tr style=\"text-align: right;\">\n",
       "      <th style=\"min-width: 12px;\"></th>\n",
       "      <th style=\"min-width: 12px;\">coef</th>\n",
       "      <th style=\"min-width: 12px;\">exp(coef)</th>\n",
       "      <th style=\"min-width: 12px;\">se(coef)</th>\n",
       "      <th style=\"min-width: 12px;\">coef lower 95%</th>\n",
       "      <th style=\"min-width: 12px;\">coef upper 95%</th>\n",
       "      <th style=\"min-width: 12px;\">exp(coef) lower 95%</th>\n",
       "      <th style=\"min-width: 12px;\">exp(coef) upper 95%</th>\n",
       "      <th style=\"min-width: 12px;\">cmp to</th>\n",
       "      <th style=\"min-width: 12px;\">z</th>\n",
       "      <th style=\"min-width: 12px;\">p</th>\n",
       "      <th style=\"min-width: 12px;\">-log2(p)</th>\n",
       "    </tr>\n",
       "  </thead>\n",
       "  <tbody>\n",
       "    <tr>\n",
       "      <th>mean_temperature</th>\n",
       "      <td>-0.06</td>\n",
       "      <td>0.94</td>\n",
       "      <td>0.02</td>\n",
       "      <td>-0.09</td>\n",
       "      <td>-0.03</td>\n",
       "      <td>0.91</td>\n",
       "      <td>0.97</td>\n",
       "      <td>0.00</td>\n",
       "      <td>-3.47</td>\n",
       "      <td>&lt;0.005</td>\n",
       "      <td>10.89</td>\n",
       "    </tr>\n",
       "    <tr>\n",
       "      <th>max_vibration</th>\n",
       "      <td>-1.28</td>\n",
       "      <td>0.28</td>\n",
       "      <td>0.16</td>\n",
       "      <td>-1.59</td>\n",
       "      <td>-0.97</td>\n",
       "      <td>0.20</td>\n",
       "      <td>0.38</td>\n",
       "      <td>0.00</td>\n",
       "      <td>-8.08</td>\n",
       "      <td>&lt;0.005</td>\n",
       "      <td>50.40</td>\n",
       "    </tr>\n",
       "  </tbody>\n",
       "</table><br><div>\n",
       "<style scoped>\n",
       "    .dataframe tbody tr th:only-of-type {\n",
       "        vertical-align: middle;\n",
       "    }\n",
       "\n",
       "    .dataframe tbody tr th {\n",
       "        vertical-align: top;\n",
       "    }\n",
       "\n",
       "    .dataframe thead th {\n",
       "        text-align: right;\n",
       "    }\n",
       "</style>\n",
       "<table border=\"1\" class=\"dataframe\">\n",
       "  <tbody>\n",
       "    <tr>\n",
       "      <th>Concordance</th>\n",
       "      <td>0.74</td>\n",
       "    </tr>\n",
       "    <tr>\n",
       "      <th>Partial AIC</th>\n",
       "      <td>1596.36</td>\n",
       "    </tr>\n",
       "    <tr>\n",
       "      <th>log-likelihood ratio test</th>\n",
       "      <td>94.13 on 2 df</td>\n",
       "    </tr>\n",
       "    <tr>\n",
       "      <th>-log2(p) of ll-ratio test</th>\n",
       "      <td>67.90</td>\n",
       "    </tr>\n",
       "  </tbody>\n",
       "</table>\n",
       "</div>"
      ],
      "text/latex": [
       "\\begin{tabular}{lrrrrrrrrrrr}\n",
       " & coef & exp(coef) & se(coef) & coef lower 95% & coef upper 95% & exp(coef) lower 95% & exp(coef) upper 95% & cmp to & z & p & -log2(p) \\\\\n",
       "covariate &  &  &  &  &  &  &  &  &  &  &  \\\\\n",
       "mean_temperature & -0.06 & 0.94 & 0.02 & -0.09 & -0.03 & 0.91 & 0.97 & 0.00 & -3.47 & 0.00 & 10.89 \\\\\n",
       "max_vibration & -1.28 & 0.28 & 0.16 & -1.59 & -0.97 & 0.20 & 0.38 & 0.00 & -8.08 & 0.00 & 50.40 \\\\\n",
       "\\end{tabular}\n"
      ],
      "text/plain": [
       "<lifelines.CoxPHFitter: fitted with 200 total observations, 12 right-censored observations>\n",
       "             duration col = 'duration'\n",
       "                event col = 'event_observed'\n",
       "      baseline estimation = breslow\n",
       "   number of observations = 200\n",
       "number of events observed = 188\n",
       "   partial log-likelihood = -796.18\n",
       "         time fit was run = 2025-10-06 06:09:44 UTC\n",
       "\n",
       "---\n",
       "                  coef exp(coef)  se(coef)  coef lower 95%  coef upper 95% exp(coef) lower 95% exp(coef) upper 95%\n",
       "covariate                                                                                                         \n",
       "mean_temperature -0.06      0.94      0.02           -0.09           -0.03                0.91                0.97\n",
       "max_vibration    -1.28      0.28      0.16           -1.59           -0.97                0.20                0.38\n",
       "\n",
       "                  cmp to     z      p  -log2(p)\n",
       "covariate                                      \n",
       "mean_temperature    0.00 -3.47 <0.005     10.89\n",
       "max_vibration       0.00 -8.08 <0.005     50.40\n",
       "---\n",
       "Concordance = 0.74\n",
       "Partial AIC = 1596.36\n",
       "log-likelihood ratio test = 94.13 on 2 df\n",
       "-log2(p) of ll-ratio test = 67.90"
      ]
     },
     "metadata": {},
     "output_type": "display_data"
    }
   ],
   "source": [
    "# Prepara os dados para o modelo Cox. Lifelines espera um DataFrame com 'duration', 'event_observed' e as features.\n",
    "df_cox = df_survival[\n",
    "    [\"mean_temperature\", \"max_vibration\", \"duration\", \"event_observed\"]\n",
    "]\n",
    "\n",
    "# Instancia e treina o modelo CoxPH\n",
    "cph = CoxPHFitter()\n",
    "cph.fit(df_cox, duration_col=\"duration\", event_col=\"event_observed\")\n",
    "\n",
    "# Mostra o resumo do modelo\n",
    "print(\"Resumo do Modelo Cox Proportional Hazards:\")\n",
    "cph.print_summary()"
   ]
  },
  {
   "cell_type": "markdown",
   "metadata": {},
   "source": [
    "**Interpretação do Resumo:**\n",
    "\n",
    "- **exp(coef) (Hazard Ratio):**\n",
    "  - **mean_temperature:** O valor é significativamente maior que 1. Isso significa que para cada aumento de 1 grau na temperatura média, o risco de falha em qualquer ponto do tempo aumenta em (exp(coef) - 1) * 100%. \n",
    "  - **max_vibration:** O valor também é muito maior que 1, indicando que a vibração máxima tem um impacto ainda mais forte no aumento do risco de falha.\n",
    "- **p:** Os valores de 'p' são muito pequenos (< 0.005), o que nos dá alta confiança de que esses resultados não são devidos ao acaso. Ambas as features são estatisticamente significantes.\n",
    "\n",
    "**Conclusão:** O modelo confirma que operar com temperaturas e vibrações mais altas acelera significativamente a degradação e aumenta o risco de falha do rolamento."
   ]
  },
  {
   "cell_type": "markdown",
   "metadata": {},
   "source": [
    "### Estimando o RUL para Componentes Específicos\n",
    "\n",
    "Agora a parte mais interessante: usar o modelo treinado para prever a curva de sobrevivência para rolamentos específicos, incluindo aqueles que ainda estão em operação (censurados), e estimar seu RUL.\n",
    "\n",
    "Vamos selecionar alguns rolamentos do nosso dataset para fazer previsões individuais."
   ]
  },
  {
   "cell_type": "code",
   "execution_count": 5,
   "metadata": {},
   "outputs": [
    {
     "name": "stdout",
     "output_type": "stream",
     "text": [
      "Rolamentos selecionados para previsão:\n"
     ]
    },
    {
     "data": {
      "application/vnd.microsoft.datawrangler.viewer.v0+json": {
       "columns": [
        {
         "name": "index",
         "rawType": "int64",
         "type": "integer"
        },
        {
         "name": "bearing_id",
         "rawType": "int64",
         "type": "integer"
        },
        {
         "name": "mean_temperature",
         "rawType": "float64",
         "type": "float"
        },
        {
         "name": "max_vibration",
         "rawType": "float64",
         "type": "float"
        },
        {
         "name": "duration",
         "rawType": "int64",
         "type": "integer"
        },
        {
         "name": "event_observed",
         "rawType": "int64",
         "type": "integer"
        }
       ],
       "ref": "d91ae3c6-fd73-4ecd-a614-4a71141c4e26",
       "rows": [
        [
         "5",
         "6",
         "69.87208302074421",
         "0.5314362815410414",
         "10",
         "1"
        ],
        [
         "10",
         "11",
         "64.70328489767047",
         "1.747324341699001",
         "225",
         "1"
        ],
        [
         "199",
         "200",
         "76.43091699093448",
         "1.739699291467175",
         "146",
         "1"
        ]
       ],
       "shape": {
        "columns": 5,
        "rows": 3
       }
      },
      "text/html": [
       "<div>\n",
       "<style scoped>\n",
       "    .dataframe tbody tr th:only-of-type {\n",
       "        vertical-align: middle;\n",
       "    }\n",
       "\n",
       "    .dataframe tbody tr th {\n",
       "        vertical-align: top;\n",
       "    }\n",
       "\n",
       "    .dataframe thead th {\n",
       "        text-align: right;\n",
       "    }\n",
       "</style>\n",
       "<table border=\"1\" class=\"dataframe\">\n",
       "  <thead>\n",
       "    <tr style=\"text-align: right;\">\n",
       "      <th></th>\n",
       "      <th>bearing_id</th>\n",
       "      <th>mean_temperature</th>\n",
       "      <th>max_vibration</th>\n",
       "      <th>duration</th>\n",
       "      <th>event_observed</th>\n",
       "    </tr>\n",
       "  </thead>\n",
       "  <tbody>\n",
       "    <tr>\n",
       "      <th>5</th>\n",
       "      <td>6</td>\n",
       "      <td>69.872083</td>\n",
       "      <td>0.531436</td>\n",
       "      <td>10</td>\n",
       "      <td>1</td>\n",
       "    </tr>\n",
       "    <tr>\n",
       "      <th>10</th>\n",
       "      <td>11</td>\n",
       "      <td>64.703285</td>\n",
       "      <td>1.747324</td>\n",
       "      <td>225</td>\n",
       "      <td>1</td>\n",
       "    </tr>\n",
       "    <tr>\n",
       "      <th>199</th>\n",
       "      <td>200</td>\n",
       "      <td>76.430917</td>\n",
       "      <td>1.739699</td>\n",
       "      <td>146</td>\n",
       "      <td>1</td>\n",
       "    </tr>\n",
       "  </tbody>\n",
       "</table>\n",
       "</div>"
      ],
      "text/plain": [
       "     bearing_id  mean_temperature  max_vibration  duration  event_observed\n",
       "5             6         69.872083       0.531436        10               1\n",
       "10           11         64.703285       1.747324       225               1\n",
       "199         200         76.430917       1.739699       146               1"
      ]
     },
     "metadata": {},
     "output_type": "display_data"
    },
    {
     "data": {
      "image/png": "[encoded data removed]",
      "text/plain": [
       "<Figure size 1200x600 with 1 Axes>"
      ]
     },
     "metadata": {},
     "output_type": "display_data"
    }
   ],
   "source": [
    "# Seleciona alguns rolamentos para exemplo: um com condições severas e um com condições amenas\n",
    "# e um que ainda está em operação (censurado)\n",
    "samples = df_survival.iloc[[5, 10, -1]]\n",
    "print(\"Rolamentos selecionados para previsão:\")\n",
    "display(samples)\n",
    "\n",
    "# O modelo prevê a curva de sobrevivência para cada amostra\n",
    "survival_functions = cph.predict_survival_function(\n",
    "    samples.drop([\"bearing_id\", \"duration\", \"event_observed\"], axis=1)\n",
    ")\n",
    "\n",
    "# Plota as curvas de sobrevivência previstas\n",
    "survival_functions.plot()\n",
    "plt.title(\"Previsão da Curva de Sobrevivência para Rolamentos Individuais\")\n",
    "plt.xlabel(\"Ciclos de Operação\")\n",
    "plt.ylabel(\"Probabilidade de Sobrevivência\")\n",
    "plt.legend(title=\"Índice do Rolamento\")\n",
    "plt.show()"
   ]
  },
  {
   "cell_type": "markdown",
   "metadata": {},
   "source": [
    "**Análise do Gráfico:** O modelo prevê curvas de sobrevivência muito diferentes para cada rolamento. O rolamento operando em condições mais severas (maior temp/vib) tem uma curva que decai rapidamente, indicando uma vida útil curta. O que opera em condições amenas tem uma probabilidade de sobrevivência muito maior ao longo do tempo.\n",
    "\n",
    "#### Calculando o RUL a partir da Curva\n",
    "\n",
    "Podemos definir o RUL como o número de ciclos adicionais até que a probabilidade de sobrevivência atinja um limiar (ex: 10%). Para um rolamento que já operou por `T` ciclos, seu RUL estimado seria `(Tempo_do_Limiar - T)`."
   ]
  },
  {
   "cell_type": "code",
   "execution_count": 6,
   "metadata": {},
   "outputs": [
    {
     "ename": "KeyError",
     "evalue": "\"None of [Index(['bearing_id', 'mean_temperature', 'max_vibration', 'duration',\\n       'event_observed'],\\n      dtype='object')] are in the [columns]\"",
     "output_type": "error",
     "traceback": [
      "\u001b[0;31m---------------------------------------------------------------------------\u001b[0m",
      "\u001b[0;31mKeyError\u001b[0m                                  Traceback (most recent call last)",
      "Cell \u001b[0;32mIn[6], line 10\u001b[0m\n\u001b[1;32m      7\u001b[0m current_cycles \u001b[38;5;241m=\u001b[39m censored_bearing[\u001b[38;5;124m\"\u001b[39m\u001b[38;5;124mduration\u001b[39m\u001b[38;5;124m\"\u001b[39m]\n\u001b[1;32m      9\u001b[0m \u001b[38;5;66;03m# Encontra o tempo de vida mediano (probabilidade de sobrevivência = 50%)\u001b[39;00m\n\u001b[0;32m---> 10\u001b[0m median_life_predicted \u001b[38;5;241m=\u001b[39m \u001b[43mcph\u001b[49m\u001b[38;5;241;43m.\u001b[39;49m\u001b[43mpredict_median\u001b[49m\u001b[43m(\u001b[49m\u001b[43mcensored_bearing\u001b[49m\u001b[43m)\u001b[49m\n\u001b[1;32m     12\u001b[0m \u001b[38;5;66;03m# RUL é a diferença entre a vida mediana prevista e os ciclos atuais\u001b[39;00m\n\u001b[1;32m     13\u001b[0m estimated_rul \u001b[38;5;241m=\u001b[39m median_life_predicted\u001b[38;5;241m.\u001b[39miloc[\u001b[38;5;241m0\u001b[39m] \u001b[38;5;241m-\u001b[39m current_cycles\n",
      "File \u001b[0;32m~/GitHub/studies-industrial_processes/env/lib/python3.13/site-packages/lifelines/fitters/coxph_fitter.py:2478\u001b[0m, in \u001b[0;36mSemiParametricPHFitter.predict_median\u001b[0;34m(self, X, conditional_after)\u001b[0m\n\u001b[1;32m   2455\u001b[0m \u001b[38;5;28;01mdef\u001b[39;00m\u001b[38;5;250m \u001b[39m\u001b[38;5;21mpredict_median\u001b[39m(\u001b[38;5;28mself\u001b[39m, X: DataFrame, conditional_after: Optional[ndarray] \u001b[38;5;241m=\u001b[39m \u001b[38;5;28;01mNone\u001b[39;00m) \u001b[38;5;241m-\u001b[39m\u001b[38;5;241m>\u001b[39m pd\u001b[38;5;241m.\u001b[39mSeries:\n\u001b[1;32m   2456\u001b[0m \u001b[38;5;250m    \u001b[39m\u001b[38;5;124;03m\"\"\"\u001b[39;00m\n\u001b[1;32m   2457\u001b[0m \u001b[38;5;124;03m    Predict the median lifetimes for the individuals. If the survival curve of an\u001b[39;00m\n\u001b[1;32m   2458\u001b[0m \u001b[38;5;124;03m    individual does not cross 0.5, then the result is infinity.\u001b[39;00m\n\u001b[0;32m   (...)\u001b[0m\n\u001b[1;32m   2476\u001b[0m \n\u001b[1;32m   2477\u001b[0m \u001b[38;5;124;03m    \"\"\"\u001b[39;00m\n\u001b[0;32m-> 2478\u001b[0m     \u001b[38;5;28;01mreturn\u001b[39;00m \u001b[38;5;28;43mself\u001b[39;49m\u001b[38;5;241;43m.\u001b[39;49m\u001b[43mpredict_percentile\u001b[49m\u001b[43m(\u001b[49m\u001b[43mX\u001b[49m\u001b[43m,\u001b[49m\u001b[43m \u001b[49m\u001b[38;5;241;43m0.5\u001b[39;49m\u001b[43m,\u001b[49m\u001b[43m \u001b[49m\u001b[43mconditional_after\u001b[49m\u001b[38;5;241;43m=\u001b[39;49m\u001b[43mconditional_after\u001b[49m\u001b[43m)\u001b[49m\n",
      "File \u001b[0;32m~/GitHub/studies-industrial_processes/env/lib/python3.13/site-packages/lifelines/fitters/coxph_fitter.py:2452\u001b[0m, in \u001b[0;36mSemiParametricPHFitter.predict_percentile\u001b[0;34m(self, X, p, conditional_after)\u001b[0m\n\u001b[1;32m   2426\u001b[0m \u001b[38;5;250m\u001b[39m\u001b[38;5;124;03m\"\"\"\u001b[39;00m\n\u001b[1;32m   2427\u001b[0m \u001b[38;5;124;03mReturns the median lifetimes for the individuals, by default. If the survival curve of an\u001b[39;00m\n\u001b[1;32m   2428\u001b[0m \u001b[38;5;124;03mindividual does not cross 0.5, then the result is infinity.\u001b[39;00m\n\u001b[0;32m   (...)\u001b[0m\n\u001b[1;32m   2448\u001b[0m \n\u001b[1;32m   2449\u001b[0m \u001b[38;5;124;03m\"\"\"\u001b[39;00m\n\u001b[1;32m   2450\u001b[0m subjects \u001b[38;5;241m=\u001b[39m utils\u001b[38;5;241m.\u001b[39m_get_index(X)\n\u001b[1;32m   2451\u001b[0m \u001b[38;5;28;01mreturn\u001b[39;00m utils\u001b[38;5;241m.\u001b[39mqth_survival_times(\n\u001b[0;32m-> 2452\u001b[0m     p, \u001b[38;5;28;43mself\u001b[39;49m\u001b[38;5;241;43m.\u001b[39;49m\u001b[43mpredict_survival_function\u001b[49m\u001b[43m(\u001b[49m\u001b[43mX\u001b[49m\u001b[43m,\u001b[49m\u001b[43m \u001b[49m\u001b[43mconditional_after\u001b[49m\u001b[38;5;241;43m=\u001b[39;49m\u001b[43mconditional_after\u001b[49m\u001b[43m)\u001b[49m\u001b[43m[\u001b[49m\u001b[43msubjects\u001b[49m\u001b[43m]\u001b[49m\n\u001b[1;32m   2453\u001b[0m )\u001b[38;5;241m.\u001b[39mT\u001b[38;5;241m.\u001b[39msqueeze()\n",
      "File \u001b[0;32m~/GitHub/studies-industrial_processes/env/lib/python3.13/site-packages/pandas/core/frame.py:4113\u001b[0m, in \u001b[0;36mDataFrame.__getitem__\u001b[0;34m(self, key)\u001b[0m\n\u001b[1;32m   4111\u001b[0m     \u001b[38;5;28;01mif\u001b[39;00m is_iterator(key):\n\u001b[1;32m   4112\u001b[0m         key \u001b[38;5;241m=\u001b[39m \u001b[38;5;28mlist\u001b[39m(key)\n\u001b[0;32m-> 4113\u001b[0m     indexer \u001b[38;5;241m=\u001b[39m \u001b[38;5;28;43mself\u001b[39;49m\u001b[38;5;241;43m.\u001b[39;49m\u001b[43mcolumns\u001b[49m\u001b[38;5;241;43m.\u001b[39;49m\u001b[43m_get_indexer_strict\u001b[49m\u001b[43m(\u001b[49m\u001b[43mkey\u001b[49m\u001b[43m,\u001b[49m\u001b[43m \u001b[49m\u001b[38;5;124;43m\"\u001b[39;49m\u001b[38;5;124;43mcolumns\u001b[39;49m\u001b[38;5;124;43m\"\u001b[39;49m\u001b[43m)\u001b[49m[\u001b[38;5;241m1\u001b[39m]\n\u001b[1;32m   4115\u001b[0m \u001b[38;5;66;03m# take() does not accept boolean indexers\u001b[39;00m\n\u001b[1;32m   4116\u001b[0m \u001b[38;5;28;01mif\u001b[39;00m \u001b[38;5;28mgetattr\u001b[39m(indexer, \u001b[38;5;124m\"\u001b[39m\u001b[38;5;124mdtype\u001b[39m\u001b[38;5;124m\"\u001b[39m, \u001b[38;5;28;01mNone\u001b[39;00m) \u001b[38;5;241m==\u001b[39m \u001b[38;5;28mbool\u001b[39m:\n",
      "File \u001b[0;32m~/GitHub/studies-industrial_processes/env/lib/python3.13/site-packages/pandas/core/indexes/base.py:6212\u001b[0m, in \u001b[0;36mIndex._get_indexer_strict\u001b[0;34m(self, key, axis_name)\u001b[0m\n\u001b[1;32m   6209\u001b[0m \u001b[38;5;28;01melse\u001b[39;00m:\n\u001b[1;32m   6210\u001b[0m     keyarr, indexer, new_indexer \u001b[38;5;241m=\u001b[39m \u001b[38;5;28mself\u001b[39m\u001b[38;5;241m.\u001b[39m_reindex_non_unique(keyarr)\n\u001b[0;32m-> 6212\u001b[0m \u001b[38;5;28;43mself\u001b[39;49m\u001b[38;5;241;43m.\u001b[39;49m\u001b[43m_raise_if_missing\u001b[49m\u001b[43m(\u001b[49m\u001b[43mkeyarr\u001b[49m\u001b[43m,\u001b[49m\u001b[43m \u001b[49m\u001b[43mindexer\u001b[49m\u001b[43m,\u001b[49m\u001b[43m \u001b[49m\u001b[43maxis_name\u001b[49m\u001b[43m)\u001b[49m\n\u001b[1;32m   6214\u001b[0m keyarr \u001b[38;5;241m=\u001b[39m \u001b[38;5;28mself\u001b[39m\u001b[38;5;241m.\u001b[39mtake(indexer)\n\u001b[1;32m   6215\u001b[0m \u001b[38;5;28;01mif\u001b[39;00m \u001b[38;5;28misinstance\u001b[39m(key, Index):\n\u001b[1;32m   6216\u001b[0m     \u001b[38;5;66;03m# GH 42790 - Preserve name from an Index\u001b[39;00m\n",
      "File \u001b[0;32m~/GitHub/studies-industrial_processes/env/lib/python3.13/site-packages/pandas/core/indexes/base.py:6261\u001b[0m, in \u001b[0;36mIndex._raise_if_missing\u001b[0;34m(self, key, indexer, axis_name)\u001b[0m\n\u001b[1;32m   6259\u001b[0m \u001b[38;5;28;01mif\u001b[39;00m nmissing:\n\u001b[1;32m   6260\u001b[0m     \u001b[38;5;28;01mif\u001b[39;00m nmissing \u001b[38;5;241m==\u001b[39m \u001b[38;5;28mlen\u001b[39m(indexer):\n\u001b[0;32m-> 6261\u001b[0m         \u001b[38;5;28;01mraise\u001b[39;00m \u001b[38;5;167;01mKeyError\u001b[39;00m(\u001b[38;5;124mf\u001b[39m\u001b[38;5;124m\"\u001b[39m\u001b[38;5;124mNone of [\u001b[39m\u001b[38;5;132;01m{\u001b[39;00mkey\u001b[38;5;132;01m}\u001b[39;00m\u001b[38;5;124m] are in the [\u001b[39m\u001b[38;5;132;01m{\u001b[39;00maxis_name\u001b[38;5;132;01m}\u001b[39;00m\u001b[38;5;124m]\u001b[39m\u001b[38;5;124m\"\u001b[39m)\n\u001b[1;32m   6263\u001b[0m     not_found \u001b[38;5;241m=\u001b[39m \u001b[38;5;28mlist\u001b[39m(ensure_index(key)[missing_mask\u001b[38;5;241m.\u001b[39mnonzero()[\u001b[38;5;241m0\u001b[39m]]\u001b[38;5;241m.\u001b[39munique())\n\u001b[1;32m   6264\u001b[0m     \u001b[38;5;28;01mraise\u001b[39;00m \u001b[38;5;167;01mKeyError\u001b[39;00m(\u001b[38;5;124mf\u001b[39m\u001b[38;5;124m\"\u001b[39m\u001b[38;5;132;01m{\u001b[39;00mnot_found\u001b[38;5;132;01m}\u001b[39;00m\u001b[38;5;124m not in index\u001b[39m\u001b[38;5;124m\"\u001b[39m)\n",
      "\u001b[0;31mKeyError\u001b[0m: \"None of [Index(['bearing_id', 'mean_temperature', 'max_vibration', 'duration',\\n       'event_observed'],\\n      dtype='object')] are in the [columns]\""
     ]
    }
   ],
   "source": [
    "# Vamos focar no rolamento censurado (ID 200), que ainda está em operação\n",
    "censored_bearing = samples.iloc[-1]\n",
    "censored_bearing_curve = survival_functions.iloc[\n",
    "    :, -1\n",
    "]  # Pega a última coluna, correspondente a ele\n",
    "\n",
    "current_cycles = censored_bearing[\"duration\"]\n",
    "\n",
    "# Encontra o tempo de vida mediano (probabilidade de sobrevivência = 50%)\n",
    "median_life_predicted = cph.predict_median(censored_bearing)\n",
    "\n",
    "# RUL é a diferença entre a vida mediana prevista e os ciclos atuais\n",
    "estimated_rul = median_life_predicted.iloc[0] - current_cycles\n",
    "\n",
    "print(\n",
    "    f\"--- Estimativa de RUL para o Rolamento ID {censored_bearing['bearing_id']:.0f} ---\"\n",
    ")\n",
    "print(f\"Ciclos já operados: {current_cycles:.0f}\")\n",
    "print(\n",
    "    f\"Tempo de vida mediano previsto pelo modelo: {median_life_predicted.iloc[0]:.0f} ciclos\"\n",
    ")\n",
    "print(f\"Vida Útil Remanescente (RUL) estimada: {estimated_rul:.0f} ciclos\")"
   ]
  },
  {
   "cell_type": "markdown",
   "metadata": {},
   "source": [
    "### Conclusão\n",
    "\n",
    "A Análise de Sobrevivência oferece uma estrutura poderosa e estatisticamente robusta para a Manutenção Preditiva e estimação de RUL.\n",
    "\n",
    "- **Vantagens:** Sua capacidade de incorporar dados censurados e fornecer uma perspectiva probabilística da falha a torna superior à regressão direta em muitos cenários do mundo real, onde nem todos os componentes falham durante o período de estudo.\n",
    "\n",
    "- **Insights:** O modelo de Cox PH não apenas prevê a sobrevivência, mas também quantifica o impacto de diferentes fatores operacionais (como temperatura e vibração) no risco de falha, fornecendo insights valiosos para a engenharia de confiabilidade e otimização de processos.\n",
    "\n",
    "- **Aplicação Prática:** Com este modelo, uma equipe de manutenção pode priorizar a inspeção de ativos com a menor probabilidade de sobrevivência prevista, otimizando recursos e evitando paradas não planejadas de forma eficaz."
   ]
  }
 ],
 "metadata": {
  "kernelspec": {
   "display_name": "env",
   "language": "python",
   "name": "python3"
  },
  "language_info": {
   "codemirror_mode": {
    "name": "ipython",
    "version": 3
   },
   "file_extension": ".py",
   "mimetype": "text/x-python",
   "name": "python",
   "nbconvert_exporter": "python",
   "pygments_lexer": "ipython3",
   "version": "3.12.11"
  }
 },
 "nbformat": 4,
 "nbformat_minor": 5
}
