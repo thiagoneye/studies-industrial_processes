{
 "cells": [
  {
   "cell_type": "markdown",
   "metadata": {},
   "source": [
    "## Otimização de Estratégia de Manutenção com Simulação de Monte Carlo\n",
    "\n",
    "**Objetivo:** Utilizar a Simulação de Monte Carlo para avaliar o custo total de diferentes políticas de manutenção ao longo de um período e determinar a estratégia mais econômica.\n",
    "\n",
    "**Contexto:** A escolha de uma estratégia de manutenção (corretiva, preventiva, preditiva) tem um impacto financeiro direto na operação. Uma decisão errada pode levar a custos excessivos com reparos emergenciais, longos períodos de inatividade ou trocas prematuras de componentes. Como a falha de um equipamento é um evento **probabilístico**, não podemos usar cálculos simples para decidir.\n",
    "\n",
    "**Por que Simulação de Monte Carlo?**\n",
    "A Simulação de Monte Carlo nos permite modelar a incerteza do \"tempo até a falha\" de um componente. Ao simular milhares de cenários possíveis para a vida útil de um ativo sob diferentes regras de manutenção, podemos obter uma **distribuição estatística dos custos totais**. Isso nos permite comparar as estratégias não apenas pelo custo médio, mas também pelo **risco** (variabilidade dos custos).\n",
    "\n",
    "**Estratégias a serem avaliadas:**\n",
    "1.  **Corretiva (Run-to-Failure):** Reparar apenas após a falha.\n",
    "2.  **Preventiva (Baseada no Tempo):** Intervir em intervalos fixos de tempo.\n",
    "3.  **Preditiva (Baseada em Previsão):** Intervir com base em um alerta que antecede a falha."
   ]
  },
  {
   "cell_type": "markdown",
   "metadata": {},
   "source": [
    "### Configuração e Importação de Bibliotecas"
   ]
  },
  {
   "cell_type": "code",
   "execution_count": null,
   "metadata": {},
   "outputs": [],
   "source": [
    "import numpy as np\n",
    "import pandas as pd\n",
    "import matplotlib.pyplot as plt\n",
    "import seaborn as sns\n",
    "\n",
    "# Configurações de visualização\n",
    "plt.rcParams['figure.figsize'] = (14, 7)"
   ]
  },
  {
   "cell_type": "markdown",
   "metadata": {},
   "source": [
    "### Definição dos Parâmetros do Modelo\n",
    "\n",
    "Nesta seção, definimos todas as premissas do nosso modelo: as características de falha do ativo e os custos associados a cada ação de manutenção."
   ]
  },
  {
   "cell_type": "code",
   "execution_count": null,
   "metadata": {},
   "outputs": [],
   "source": [
    "# --- Parâmetros de Confiabilidade (Distribuição de Weibull) ---\n",
    "# A Distribuição de Weibull é padrão para modelar tempo até a falha.\n",
    "weibull_shape = 2.5  # Beta (β) > 1 indica falha por desgaste (envelhecimento)\n",
    "weibull_scale = 3000  # Eta (η), vida característica em horas. A maioria das falhas ocorrerá em torno deste valor.\n",
    "\n",
    "# --- Parâmetros de Custo ---\n",
    "# Custos de Reparo\n",
    "cost_corrective = 15000  # Custo de um reparo de emergência (alto)\n",
    "cost_preventive = 4000  # Custo de uma substituição planejada (peças + mão de obra)\n",
    "cost_predictive = 3500  # Custo de uma substituição just-in-time (menor que preventiva pois o planejamento é melhor)\n",
    "\n",
    "# Custos de Inatividade (Downtime)\n",
    "cost_downtime_per_hour = 500  # Custo da perda de produção por hora\n",
    "downtime_corrective = 12  # Horas de inatividade para um reparo corretivo (longo)\n",
    "downtime_preventive = 4  # Horas de inatividade para um reparo preventivo (curto)\n",
    "downtime_predictive = 3  # Horas de inatividade para um reparo preditivo (mais curto)\n",
    "\n",
    "# Custo de Monitoramento (apenas para Preditiva)\n",
    "cost_monitoring_per_year = 2000\n",
    "\n",
    "# --- Parâmetros da Estratégia Preventiva ---\n",
    "preventive_interval_hours = 2000  # Fazer manutenção a cada 2000 horas\n",
    "\n",
    "# --- Parâmetros da Estratégia Preditiva ---\n",
    "predictive_warning_hours = (\n",
    "    100  # Nosso sistema Preditivo nos dá um alerta 100 horas antes da falha\n",
    ")"
   ]
  },
  {
   "cell_type": "markdown",
   "metadata": {},
   "source": [
    "### Funções de Simulação de Monte Carlo\n",
    "\n",
    "Vamos criar uma função para cada estratégia. Cada função irá simular a operação do ativo por um longo período, repetindo isso milhares de vezes para obter uma distribuição de custos."
   ]
  },
  {
   "cell_type": "code",
   "execution_count": null,
   "metadata": {},
   "outputs": [],
   "source": [
    "def generate_ttf():\n",
    "    \"\"\"Gera um Tempo Até a Falha (Time to Failure) a partir da distribuição de Weibull.\"\"\"\n",
    "    return weibull_scale * np.random.weibull(weibull_shape)\n",
    "\n",
    "\n",
    "def simulate_corrective(simulation_horizon_hours, n_simulations):\n",
    "    \"\"\"Simula a estratégia Corretiva (Run-to-Failure).\"\"\"\n",
    "    total_costs = []\n",
    "    cost_failure = cost_corrective + (downtime_corrective * cost_downtime_per_hour)\n",
    "\n",
    "    for _ in range(n_simulations):\n",
    "        current_time = 0\n",
    "        sim_cost = 0\n",
    "        while current_time < simulation_horizon_hours:\n",
    "            ttf = generate_ttf()\n",
    "            current_time += ttf\n",
    "            if current_time < simulation_horizon_hours:\n",
    "                sim_cost += cost_failure\n",
    "        total_costs.append(sim_cost)\n",
    "    return total_costs\n",
    "\n",
    "\n",
    "def simulate_preventive(simulation_horizon_hours, n_simulations):\n",
    "    \"\"\"Simula a estratégia Preventiva (Baseada no Tempo).\"\"\"\n",
    "    total_costs = []\n",
    "    cost_failure = cost_corrective + (downtime_corrective * cost_downtime_per_hour)\n",
    "    cost_pm = cost_preventive + (downtime_preventive * cost_downtime_per_hour)\n",
    "\n",
    "    for _ in range(n_simulations):\n",
    "        current_time = 0\n",
    "        sim_cost = 0\n",
    "        while current_time < simulation_horizon_hours:\n",
    "            ttf = generate_ttf()\n",
    "            if ttf < preventive_interval_hours:\n",
    "                # Falhou antes da preventiva\n",
    "                current_time += ttf\n",
    "                if current_time < simulation_horizon_hours:\n",
    "                    sim_cost += cost_failure\n",
    "            else:\n",
    "                # Intervenção preventiva bem-sucedida\n",
    "                current_time += preventive_interval_hours\n",
    "                if current_time < simulation_horizon_hours:\n",
    "                    sim_cost += cost_pm\n",
    "        total_costs.append(sim_cost)\n",
    "    return total_costs\n",
    "\n",
    "\n",
    "def simulate_predictive(simulation_horizon_hours, n_simulations):\n",
    "    \"\"\"Simula a estratégia Preditiva.\"\"\"\n",
    "    total_costs = []\n",
    "    cost_pdm = cost_predictive + (downtime_predictive * cost_downtime_per_hour)\n",
    "    # Custo de monitoramento é adicionado ao final\n",
    "    monitoring_cost_total = (simulation_horizon_hours / 8760) * cost_monitoring_per_year\n",
    "\n",
    "    for _ in range(n_simulations):\n",
    "        current_time = 0\n",
    "        sim_cost = 0\n",
    "        while current_time < simulation_horizon_hours:\n",
    "            ttf = generate_ttf()\n",
    "            # A intervenção ocorre 'warning_hours' antes da falha\n",
    "            intervention_time = ttf - predictive_warning_hours\n",
    "            current_time += intervention_time\n",
    "            if current_time < simulation_horizon_hours:\n",
    "                sim_cost += cost_pdm\n",
    "        total_costs.append(sim_cost + monitoring_cost_total)\n",
    "    return total_costs"
   ]
  },
  {
   "cell_type": "markdown",
   "metadata": {},
   "source": [
    "### Execução da Simulação\n",
    "\n",
    "Vamos definir os parâmetros da simulação (quantas vezes repetir e por quanto tempo simular) e rodar as funções."
   ]
  },
  {
   "cell_type": "code",
   "execution_count": null,
   "metadata": {},
   "outputs": [],
   "source": [
    "N_SIMULATIONS = 10000  # Número de \"vidas\" do ativo a simular\n",
    "SIMULATION_HORIZON_YEARS = 5\n",
    "SIMULATION_HORIZON_HOURS = SIMULATION_HORIZON_YEARS * 24 * 365\n",
    "\n",
    "print(\n",
    "    f\"Iniciando simulações para um horizonte de {SIMULATION_HORIZON_YEARS} anos ({SIMULATION_HORIZON_HOURS} horas)...\"\n",
    ")\n",
    "\n",
    "costs_corrective = simulate_corrective(SIMULATION_HORIZON_HOURS, N_SIMULATIONS)\n",
    "costs_preventive = simulate_preventive(SIMULATION_HORIZON_HOURS, N_SIMULATIONS)\n",
    "costs_predictive = simulate_predictive(SIMULATION_HORIZON_HOURS, N_SIMULATIONS)\n",
    "\n",
    "print(\"Simulações concluídas!\")\n",
    "\n",
    "# Organizando os resultados em um DataFrame\n",
    "results_df = pd.DataFrame(\n",
    "    {\n",
    "        \"Corretiva\": costs_corrective,\n",
    "        \"Preventiva\": costs_preventive,\n",
    "        \"Preditiva\": costs_predictive,\n",
    "    }\n",
    ")"
   ]
  },
  {
   "cell_type": "markdown",
   "metadata": {},
   "source": [
    "### Análise e Visualização dos Resultados\n",
    "\n",
    "Esta é a parte mais importante. Vamos comparar as distribuições de custo para entender o desempenho e o risco de cada estratégia."
   ]
  },
  {
   "cell_type": "code",
   "execution_count": null,
   "metadata": {},
   "outputs": [],
   "source": [
    "# Plotando histogramas das distribuições de custo\n",
    "plt.figure(figsize=(16, 8))\n",
    "sns.histplot(results_df, bins=50, kde=True, palette=\"viridis\")\n",
    "plt.title(\n",
    "    f\"Distribuição do Custo Total em {SIMULATION_HORIZON_YEARS} Anos ({N_SIMULATIONS} Simulações)\",\n",
    "    fontsize=16,\n",
    ")\n",
    "plt.xlabel(\"Custo Total (R$)\")\n",
    "plt.ylabel(\"Frequência\")\n",
    "\n",
    "# Plotando boxplots para comparar as estatísticas\n",
    "plt.figure(figsize=(12, 7))\n",
    "sns.boxplot(data=results_df, palette=\"viridis\")\n",
    "plt.title(\"Comparação do Custo Total por Estratégia\", fontsize=16)\n",
    "plt.ylabel(\"Custo Total (R$)\")"
   ]
  },
  {
   "cell_type": "markdown",
   "metadata": {},
   "source": [
    "#### Análise Estatística"
   ]
  },
  {
   "cell_type": "code",
   "execution_count": null,
   "metadata": {},
   "outputs": [],
   "source": [
    "summary = results_df.describe(percentiles=[0.05, 0.25, 0.5, 0.75, 0.95]).transpose()\n",
    "summary[\"Custo Médio\"] = summary[\"mean\"]\n",
    "summary[\"Risco (Desv. Padrão)\"] = summary[\"std\"]\n",
    "summary = summary[[\"Custo Médio\", \"Risco (Desv. Padrão)\", \"min\", \"50%\", \"max\"]]\n",
    "summary = summary.rename(columns={\"50%\": \"Custo Mediano\"})\n",
    "\n",
    "print(f\"Resumo Estatístico do Custo Total em {SIMULATION_HORIZON_YEARS} anos:\")\n",
    "summary.style.format(\"R$ {:,.2f}\")"
   ]
  },
  {
   "cell_type": "markdown",
   "metadata": {},
   "source": [
    "### Conclusão e Tomada de Decisão\n",
    "\n",
    "**Análise dos Resultados:**\n",
    "\n",
    "1.  **Estratégia Corretiva:** Apresenta o **maior custo médio** e, crucialmente, o **maior risco (desvio padrão)**. A cauda longa no histograma mostra que, embora às vezes possa ser barata (se o ativo tiver sorte e durar muito), ela também tem um potencial significativo para custos extremamente altos e imprevisíveis. É uma estratégia de alto risco.\n",
    "\n",
    "2.  **Estratégia Preventiva:** Consegue **reduzir drasticamente o custo médio** em comparação com a corretiva. O risco também é muito menor, resultando em custos mais previsíveis. No entanto, ao intervir em um intervalo fixo (`2000h`), estamos potencialmente desperdiçando a vida útil restante do componente, já que a vida característica é de `3000h`.\n",
    "\n",
    "3.  **Estratégia Preditiva:** Neste cenário, ela apresenta o **menor custo médio e mediano**. Mais importante ainda, ela tem o **menor risco (desvio padrão)**. A distribuição de custos é a mais estreita, o que significa que os custos anuais de manutenção para este ativo se tornam muito mais previsíveis e estáveis. O custo do monitoramento é mais do que compensado pela otimização do momento da intervenção.\n",
    "\n",
    "**Decisão Estratégica:**\n",
    "\n",
    "Com base nesta simulação, a **Estratégia Preditiva é a escolha ótima** para este ativo. Ela não apenas minimiza o custo total esperado ao longo de 5 anos, mas também oferece a maior previsibilidade financeira, permitindo um melhor planejamento orçamentário para a manutenção."
   ]
  }
 ],
 "metadata": {
  "kernelspec": {
   "display_name": "Python 3",
   "language": "python",
   "name": "python3"
  },
  "language_info": {
   "codemirror_mode": {
    "name": "ipython",
    "version": 3
   },
   "file_extension": ".py",
   "mimetype": "text/x-python",
   "name": "python",
   "nbconvert_exporter": "python",
   "pygments_lexer": "ipython3",
   "version": "3.9.12"
  }
 },
 "nbformat": 4,
 "nbformat_minor": 5
}
