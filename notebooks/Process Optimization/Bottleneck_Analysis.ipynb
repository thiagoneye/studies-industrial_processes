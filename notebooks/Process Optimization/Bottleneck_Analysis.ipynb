{
 "cells": [
  {
   "cell_type": "markdown",
   "metadata": {},
   "source": [
    "## Análise de Gargalos (Bottleneck Analysis) em Processos de Manufatura\n",
    "\n",
    "**Objetivo:** Utilizar dados de timestamps de um sistema MES (Manufacturing Execution System) para identificar gargalos de produção de forma estatística e analisar como eles mudam sob diferentes condições operacionais.\n",
    "\n",
    "**Contexto:** Em qualquer linha de produção com múltiplas etapas, a capacidade geral do sistema é ditada pela sua etapa mais lenta. Essa etapa é o **gargalo**. Identificar e otimizar o gargalo é a maneira mais eficaz de aumentar a produção total. Um erro comum é investir em melhorias em etapas que não são o gargalo, o que gera custo sem aumentar significativamente a produção.\n",
    "\n",
    "**Metodologia:**\n",
    "1.  Vamos simular dados de um processo com quatro etapas: Corte, Montagem, Pintura e Inspeção.\n",
    "2.  A partir dos timestamps de início e fim de cada etapa, calcularemos o **Tempo de Processamento** (duração de cada etapa) e o **Tempo de Espera** (tempo em fila entre as etapas).\n",
    "3.  Analisaremos estatisticamente esses tempos para encontrar o gargalo geral.\n",
    "4.  Segmentaremos a análise por \"Condição Operacional\" (no nosso caso, o tipo de produto) para identificar gargalos dinâmicos."
   ]
  },
  {
   "cell_type": "markdown",
   "metadata": {},
   "source": [
    "### Configuração e Importação de Bibliotecas"
   ]
  },
  {
   "cell_type": "code",
   "execution_count": 1,
   "metadata": {},
   "outputs": [],
   "source": [
    "import pandas as pd\n",
    "import numpy as np\n",
    "import matplotlib.pyplot as plt\n",
    "import seaborn as sns\n",
    "from datetime import timedelta\n",
    "\n",
    "# Configurações de visualização\n",
    "plt.rcParams[\"figure.figsize\"] = (15, 7)"
   ]
  },
  {
   "cell_type": "markdown",
   "metadata": {},
   "source": [
    "### Simulação de Dados do Sistema MES\n",
    "\n",
    "Vamos gerar um dataset realista. A lógica da simulação irá criar um **gargalo que muda**: \n",
    "- Para o **Produto X**, a **Pintura** será a etapa mais demorada.\n",
    "- Para o **Produto Y**, a **Montagem** será mais complexa e, portanto, o gargalo."
   ]
  },
  {
   "cell_type": "code",
   "execution_count": 2,
   "metadata": {},
   "outputs": [
    {
     "name": "stdout",
     "output_type": "stream",
     "text": [
      "Amostra dos Dados Brutos do MES:\n"
     ]
    },
    {
     "data": {
      "application/vnd.microsoft.datawrangler.viewer.v0+json": {
       "columns": [
        {
         "name": "index",
         "rawType": "int64",
         "type": "integer"
        },
        {
         "name": "id_produto",
         "rawType": "int64",
         "type": "integer"
        },
        {
         "name": "tipo_produto",
         "rawType": "object",
         "type": "string"
        },
        {
         "name": "start_corte",
         "rawType": "datetime64[ns]",
         "type": "datetime"
        },
        {
         "name": "end_corte",
         "rawType": "datetime64[ns]",
         "type": "datetime"
        },
        {
         "name": "start_montagem",
         "rawType": "datetime64[ns]",
         "type": "datetime"
        },
        {
         "name": "end_montagem",
         "rawType": "datetime64[ns]",
         "type": "datetime"
        },
        {
         "name": "start_pintura",
         "rawType": "datetime64[ns]",
         "type": "datetime"
        },
        {
         "name": "end_pintura",
         "rawType": "datetime64[ns]",
         "type": "datetime"
        },
        {
         "name": "start_inspecao",
         "rawType": "datetime64[ns]",
         "type": "datetime"
        },
        {
         "name": "end_inspecao",
         "rawType": "datetime64[ns]",
         "type": "datetime"
        }
       ],
       "ref": "4a8d4eec-5a00-4f75-8ef9-1744a09f3092",
       "rows": [
        [
         "0",
         "1",
         "Produto_Y",
         "2025-10-06 08:00:00",
         "2025-10-06 08:09:06.345831",
         "2025-10-06 08:09:10.447386",
         "2025-10-06 08:37:31.620701",
         "2025-10-06 08:38:14.928697",
         "2025-10-06 08:49:50.235698",
         "2025-10-06 08:54:35.359572",
         "2025-10-06 09:03:47.772615"
        ],
        [
         "1",
         "2",
         "Produto_X",
         "2025-10-06 08:09:06.345831",
         "2025-10-06 08:18:55.726924",
         "2025-10-06 08:19:11.270753",
         "2025-10-06 08:34:56.258519",
         "2025-10-06 08:44:48.036721",
         "2025-10-06 09:14:10.027674",
         "2025-10-06 09:18:01.667020",
         "2025-10-06 09:25:40.818594"
        ],
        [
         "2",
         "3",
         "Produto_Y",
         "2025-10-06 08:18:55.726924",
         "2025-10-06 08:27:10.296746",
         "2025-10-06 08:27:42.948049",
         "2025-10-06 08:53:59.550771",
         "2025-10-06 08:54:01.498150",
         "2025-10-06 09:06:09.569808",
         "2025-10-06 09:11:23.440162",
         "2025-10-06 09:18:19.776367"
        ],
        [
         "3",
         "4",
         "Produto_X",
         "2025-10-06 08:27:10.296746",
         "2025-10-06 08:36:33.601418",
         "2025-10-06 08:37:45.037294",
         "2025-10-06 08:56:08.354982",
         "2025-10-06 08:57:22.364192",
         "2025-10-06 09:22:45.888099",
         "2025-10-06 09:26:33.624604",
         "2025-10-06 09:33:55.811549"
        ],
        [
         "4",
         "5",
         "Produto_X",
         "2025-10-06 08:36:33.601418",
         "2025-10-06 08:48:17.643790",
         "2025-10-06 08:48:54.324283",
         "2025-10-06 09:02:46.643886",
         "2025-10-06 09:04:40.738938",
         "2025-10-06 09:41:17.112071",
         "2025-10-06 09:41:17.137590",
         "2025-10-06 09:52:04.144880"
        ]
       ],
       "shape": {
        "columns": 10,
        "rows": 5
       }
      },
      "text/html": [
       "<div>\n",
       "<style scoped>\n",
       "    .dataframe tbody tr th:only-of-type {\n",
       "        vertical-align: middle;\n",
       "    }\n",
       "\n",
       "    .dataframe tbody tr th {\n",
       "        vertical-align: top;\n",
       "    }\n",
       "\n",
       "    .dataframe thead th {\n",
       "        text-align: right;\n",
       "    }\n",
       "</style>\n",
       "<table border=\"1\" class=\"dataframe\">\n",
       "  <thead>\n",
       "    <tr style=\"text-align: right;\">\n",
       "      <th></th>\n",
       "      <th>id_produto</th>\n",
       "      <th>tipo_produto</th>\n",
       "      <th>start_corte</th>\n",
       "      <th>end_corte</th>\n",
       "      <th>start_montagem</th>\n",
       "      <th>end_montagem</th>\n",
       "      <th>start_pintura</th>\n",
       "      <th>end_pintura</th>\n",
       "      <th>start_inspecao</th>\n",
       "      <th>end_inspecao</th>\n",
       "    </tr>\n",
       "  </thead>\n",
       "  <tbody>\n",
       "    <tr>\n",
       "      <th>0</th>\n",
       "      <td>1</td>\n",
       "      <td>Produto_Y</td>\n",
       "      <td>2025-10-06 08:00:00.000000</td>\n",
       "      <td>2025-10-06 08:09:06.345831</td>\n",
       "      <td>2025-10-06 08:09:10.447386</td>\n",
       "      <td>2025-10-06 08:37:31.620701</td>\n",
       "      <td>2025-10-06 08:38:14.928697</td>\n",
       "      <td>2025-10-06 08:49:50.235698</td>\n",
       "      <td>2025-10-06 08:54:35.359572</td>\n",
       "      <td>2025-10-06 09:03:47.772615</td>\n",
       "    </tr>\n",
       "    <tr>\n",
       "      <th>1</th>\n",
       "      <td>2</td>\n",
       "      <td>Produto_X</td>\n",
       "      <td>2025-10-06 08:09:06.345831</td>\n",
       "      <td>2025-10-06 08:18:55.726924</td>\n",
       "      <td>2025-10-06 08:19:11.270753</td>\n",
       "      <td>2025-10-06 08:34:56.258519</td>\n",
       "      <td>2025-10-06 08:44:48.036721</td>\n",
       "      <td>2025-10-06 09:14:10.027674</td>\n",
       "      <td>2025-10-06 09:18:01.667020</td>\n",
       "      <td>2025-10-06 09:25:40.818594</td>\n",
       "    </tr>\n",
       "    <tr>\n",
       "      <th>2</th>\n",
       "      <td>3</td>\n",
       "      <td>Produto_Y</td>\n",
       "      <td>2025-10-06 08:18:55.726924</td>\n",
       "      <td>2025-10-06 08:27:10.296746</td>\n",
       "      <td>2025-10-06 08:27:42.948049</td>\n",
       "      <td>2025-10-06 08:53:59.550771</td>\n",
       "      <td>2025-10-06 08:54:01.498150</td>\n",
       "      <td>2025-10-06 09:06:09.569808</td>\n",
       "      <td>2025-10-06 09:11:23.440162</td>\n",
       "      <td>2025-10-06 09:18:19.776367</td>\n",
       "    </tr>\n",
       "    <tr>\n",
       "      <th>3</th>\n",
       "      <td>4</td>\n",
       "      <td>Produto_X</td>\n",
       "      <td>2025-10-06 08:27:10.296746</td>\n",
       "      <td>2025-10-06 08:36:33.601418</td>\n",
       "      <td>2025-10-06 08:37:45.037294</td>\n",
       "      <td>2025-10-06 08:56:08.354982</td>\n",
       "      <td>2025-10-06 08:57:22.364192</td>\n",
       "      <td>2025-10-06 09:22:45.888099</td>\n",
       "      <td>2025-10-06 09:26:33.624604</td>\n",
       "      <td>2025-10-06 09:33:55.811549</td>\n",
       "    </tr>\n",
       "    <tr>\n",
       "      <th>4</th>\n",
       "      <td>5</td>\n",
       "      <td>Produto_X</td>\n",
       "      <td>2025-10-06 08:36:33.601418</td>\n",
       "      <td>2025-10-06 08:48:17.643790</td>\n",
       "      <td>2025-10-06 08:48:54.324283</td>\n",
       "      <td>2025-10-06 09:02:46.643886</td>\n",
       "      <td>2025-10-06 09:04:40.738938</td>\n",
       "      <td>2025-10-06 09:41:17.112071</td>\n",
       "      <td>2025-10-06 09:41:17.137590</td>\n",
       "      <td>2025-10-06 09:52:04.144880</td>\n",
       "    </tr>\n",
       "  </tbody>\n",
       "</table>\n",
       "</div>"
      ],
      "text/plain": [
       "   id_produto tipo_produto                start_corte  \\\n",
       "0           1    Produto_Y 2025-10-06 08:00:00.000000   \n",
       "1           2    Produto_X 2025-10-06 08:09:06.345831   \n",
       "2           3    Produto_Y 2025-10-06 08:18:55.726924   \n",
       "3           4    Produto_X 2025-10-06 08:27:10.296746   \n",
       "4           5    Produto_X 2025-10-06 08:36:33.601418   \n",
       "\n",
       "                   end_corte             start_montagem  \\\n",
       "0 2025-10-06 08:09:06.345831 2025-10-06 08:09:10.447386   \n",
       "1 2025-10-06 08:18:55.726924 2025-10-06 08:19:11.270753   \n",
       "2 2025-10-06 08:27:10.296746 2025-10-06 08:27:42.948049   \n",
       "3 2025-10-06 08:36:33.601418 2025-10-06 08:37:45.037294   \n",
       "4 2025-10-06 08:48:17.643790 2025-10-06 08:48:54.324283   \n",
       "\n",
       "                end_montagem              start_pintura  \\\n",
       "0 2025-10-06 08:37:31.620701 2025-10-06 08:38:14.928697   \n",
       "1 2025-10-06 08:34:56.258519 2025-10-06 08:44:48.036721   \n",
       "2 2025-10-06 08:53:59.550771 2025-10-06 08:54:01.498150   \n",
       "3 2025-10-06 08:56:08.354982 2025-10-06 08:57:22.364192   \n",
       "4 2025-10-06 09:02:46.643886 2025-10-06 09:04:40.738938   \n",
       "\n",
       "                 end_pintura             start_inspecao  \\\n",
       "0 2025-10-06 08:49:50.235698 2025-10-06 08:54:35.359572   \n",
       "1 2025-10-06 09:14:10.027674 2025-10-06 09:18:01.667020   \n",
       "2 2025-10-06 09:06:09.569808 2025-10-06 09:11:23.440162   \n",
       "3 2025-10-06 09:22:45.888099 2025-10-06 09:26:33.624604   \n",
       "4 2025-10-06 09:41:17.112071 2025-10-06 09:41:17.137590   \n",
       "\n",
       "                end_inspecao  \n",
       "0 2025-10-06 09:03:47.772615  \n",
       "1 2025-10-06 09:25:40.818594  \n",
       "2 2025-10-06 09:18:19.776367  \n",
       "3 2025-10-06 09:33:55.811549  \n",
       "4 2025-10-06 09:52:04.144880  "
      ]
     },
     "execution_count": 2,
     "metadata": {},
     "output_type": "execute_result"
    }
   ],
   "source": [
    "def simulate_mes_data(n_products=500):\n",
    "    data = []\n",
    "    current_time = pd.to_datetime(\"2025-10-06 08:00:00\")\n",
    "\n",
    "    for i in range(n_products):\n",
    "        product_type = np.random.choice([\"Produto_X\", \"Produto_Y\"])\n",
    "\n",
    "        # Tempos de processamento em minutos\n",
    "        t_corte = np.random.normal(10, 1)\n",
    "\n",
    "        if product_type == \"Produto_X\":\n",
    "            t_montagem = np.random.normal(15, 2)\n",
    "            t_pintura = np.random.normal(30, 5)  # <- Gargalo para Produto X\n",
    "        else:  # Produto_Y\n",
    "            t_montagem = np.random.normal(25, 4)  # <- Gargalo para Produto Y\n",
    "            t_pintura = np.random.normal(12, 2)\n",
    "\n",
    "        t_inspecao = np.random.normal(8, 1)\n",
    "\n",
    "        # Tempos de espera (fila) em minutos - o gargalo causa filas antes dele\n",
    "        wait_montagem = np.random.exponential(1)\n",
    "        wait_pintura = np.random.exponential(5 if product_type == \"Produto_X\" else 2)\n",
    "        wait_inspecao = np.random.exponential(8 if product_type == \"Produto_Y\" else 3)\n",
    "\n",
    "        # Gerando os timestamps\n",
    "        start_corte = current_time\n",
    "        end_corte = start_corte + timedelta(minutes=t_corte)\n",
    "        start_montagem = end_corte + timedelta(minutes=wait_montagem)\n",
    "        end_montagem = start_montagem + timedelta(minutes=t_montagem)\n",
    "        start_pintura = end_montagem + timedelta(minutes=wait_pintura)\n",
    "        end_pintura = start_pintura + timedelta(minutes=t_pintura)\n",
    "        start_inspecao = end_pintura + timedelta(minutes=wait_inspecao)\n",
    "        end_inspecao = start_inspecao + timedelta(minutes=t_inspecao)\n",
    "\n",
    "        data.append(\n",
    "            {\n",
    "                \"id_produto\": i + 1,\n",
    "                \"tipo_produto\": product_type,\n",
    "                \"start_corte\": start_corte,\n",
    "                \"end_corte\": end_corte,\n",
    "                \"start_montagem\": start_montagem,\n",
    "                \"end_montagem\": end_montagem,\n",
    "                \"start_pintura\": start_pintura,\n",
    "                \"end_pintura\": end_pintura,\n",
    "                \"start_inspecao\": start_inspecao,\n",
    "                \"end_inspecao\": end_inspecao,\n",
    "            }\n",
    "        )\n",
    "\n",
    "        # O próximo produto só pode começar após o primeiro ter liberado a primeira estação\n",
    "        current_time = end_corte\n",
    "\n",
    "    return pd.DataFrame(data)\n",
    "\n",
    "\n",
    "df = simulate_mes_data(n_products=1000)\n",
    "\n",
    "print(\"Amostra dos Dados Brutos do MES:\")\n",
    "df.head()"
   ]
  },
  {
   "cell_type": "markdown",
   "metadata": {},
   "source": [
    "### Cálculo dos Tempos de Processamento e Espera\n",
    "\n",
    "Agora, vamos transformar os timestamps brutos em informações úteis: as durações de cada etapa e o tempo de espera entre elas. Todos os valores serão em minutos."
   ]
  },
  {
   "cell_type": "code",
   "execution_count": 3,
   "metadata": {},
   "outputs": [
    {
     "name": "stdout",
     "output_type": "stream",
     "text": [
      "Dados Processados com Tempos de Ciclo e Espera (em minutos):\n"
     ]
    },
    {
     "data": {
      "application/vnd.microsoft.datawrangler.viewer.v0+json": {
       "columns": [
        {
         "name": "index",
         "rawType": "int64",
         "type": "integer"
        },
        {
         "name": "id_produto",
         "rawType": "int64",
         "type": "integer"
        },
        {
         "name": "tipo_produto",
         "rawType": "object",
         "type": "string"
        },
        {
         "name": "proc_corte",
         "rawType": "float64",
         "type": "float"
        },
        {
         "name": "proc_montagem",
         "rawType": "float64",
         "type": "float"
        },
        {
         "name": "proc_pintura",
         "rawType": "float64",
         "type": "float"
        },
        {
         "name": "proc_inspecao",
         "rawType": "float64",
         "type": "float"
        },
        {
         "name": "espera_montagem",
         "rawType": "float64",
         "type": "float"
        },
        {
         "name": "espera_pintura",
         "rawType": "float64",
         "type": "float"
        },
        {
         "name": "espera_inspecao",
         "rawType": "float64",
         "type": "float"
        }
       ],
       "ref": "2b811b2e-3093-4c53-a69d-b0f6eda2b026",
       "rows": [
        [
         "0",
         "1",
         "Produto_Y",
         "9.105763849999999",
         "28.352888583333332",
         "11.588450016666666",
         "9.206884050000001",
         "0.06835925000000001",
         "0.7217999333333334",
         "4.752064566666666"
        ],
        [
         "1",
         "2",
         "Produto_X",
         "9.823018216666666",
         "15.7497961",
         "29.36651588333333",
         "7.652526233333333",
         "0.25906381666666667",
         "9.862970033333333",
         "3.8606557666666665"
        ],
        [
         "2",
         "3",
         "Produto_Y",
         "8.242830366666666",
         "26.276712033333336",
         "12.134527633333333",
         "6.93893675",
         "0.5441883833333333",
         "0.032456316666666665",
         "5.231172566666667"
        ],
        [
         "3",
         "4",
         "Produto_X",
         "9.3884112",
         "18.388628133333334",
         "25.392065116666668",
         "7.369782416666666",
         "1.1905979333333332",
         "1.2334868333333333",
         "3.7956084166666666"
        ],
        [
         "4",
         "5",
         "Produto_X",
         "11.734039533333334",
         "13.871993383333335",
         "36.606218883333334",
         "10.783454833333334",
         "0.61134155",
         "1.9015841999999998",
         "0.00042531666666666666"
        ]
       ],
       "shape": {
        "columns": 9,
        "rows": 5
       }
      },
      "text/html": [
       "<div>\n",
       "<style scoped>\n",
       "    .dataframe tbody tr th:only-of-type {\n",
       "        vertical-align: middle;\n",
       "    }\n",
       "\n",
       "    .dataframe tbody tr th {\n",
       "        vertical-align: top;\n",
       "    }\n",
       "\n",
       "    .dataframe thead th {\n",
       "        text-align: right;\n",
       "    }\n",
       "</style>\n",
       "<table border=\"1\" class=\"dataframe\">\n",
       "  <thead>\n",
       "    <tr style=\"text-align: right;\">\n",
       "      <th></th>\n",
       "      <th>id_produto</th>\n",
       "      <th>tipo_produto</th>\n",
       "      <th>proc_corte</th>\n",
       "      <th>proc_montagem</th>\n",
       "      <th>proc_pintura</th>\n",
       "      <th>proc_inspecao</th>\n",
       "      <th>espera_montagem</th>\n",
       "      <th>espera_pintura</th>\n",
       "      <th>espera_inspecao</th>\n",
       "    </tr>\n",
       "  </thead>\n",
       "  <tbody>\n",
       "    <tr>\n",
       "      <th>0</th>\n",
       "      <td>1</td>\n",
       "      <td>Produto_Y</td>\n",
       "      <td>9.105764</td>\n",
       "      <td>28.352889</td>\n",
       "      <td>11.588450</td>\n",
       "      <td>9.206884</td>\n",
       "      <td>0.068359</td>\n",
       "      <td>0.721800</td>\n",
       "      <td>4.752065</td>\n",
       "    </tr>\n",
       "    <tr>\n",
       "      <th>1</th>\n",
       "      <td>2</td>\n",
       "      <td>Produto_X</td>\n",
       "      <td>9.823018</td>\n",
       "      <td>15.749796</td>\n",
       "      <td>29.366516</td>\n",
       "      <td>7.652526</td>\n",
       "      <td>0.259064</td>\n",
       "      <td>9.862970</td>\n",
       "      <td>3.860656</td>\n",
       "    </tr>\n",
       "    <tr>\n",
       "      <th>2</th>\n",
       "      <td>3</td>\n",
       "      <td>Produto_Y</td>\n",
       "      <td>8.242830</td>\n",
       "      <td>26.276712</td>\n",
       "      <td>12.134528</td>\n",
       "      <td>6.938937</td>\n",
       "      <td>0.544188</td>\n",
       "      <td>0.032456</td>\n",
       "      <td>5.231173</td>\n",
       "    </tr>\n",
       "    <tr>\n",
       "      <th>3</th>\n",
       "      <td>4</td>\n",
       "      <td>Produto_X</td>\n",
       "      <td>9.388411</td>\n",
       "      <td>18.388628</td>\n",
       "      <td>25.392065</td>\n",
       "      <td>7.369782</td>\n",
       "      <td>1.190598</td>\n",
       "      <td>1.233487</td>\n",
       "      <td>3.795608</td>\n",
       "    </tr>\n",
       "    <tr>\n",
       "      <th>4</th>\n",
       "      <td>5</td>\n",
       "      <td>Produto_X</td>\n",
       "      <td>11.734040</td>\n",
       "      <td>13.871993</td>\n",
       "      <td>36.606219</td>\n",
       "      <td>10.783455</td>\n",
       "      <td>0.611342</td>\n",
       "      <td>1.901584</td>\n",
       "      <td>0.000425</td>\n",
       "    </tr>\n",
       "  </tbody>\n",
       "</table>\n",
       "</div>"
      ],
      "text/plain": [
       "   id_produto tipo_produto  proc_corte  proc_montagem  proc_pintura  \\\n",
       "0           1    Produto_Y    9.105764      28.352889     11.588450   \n",
       "1           2    Produto_X    9.823018      15.749796     29.366516   \n",
       "2           3    Produto_Y    8.242830      26.276712     12.134528   \n",
       "3           4    Produto_X    9.388411      18.388628     25.392065   \n",
       "4           5    Produto_X   11.734040      13.871993     36.606219   \n",
       "\n",
       "   proc_inspecao  espera_montagem  espera_pintura  espera_inspecao  \n",
       "0       9.206884         0.068359        0.721800         4.752065  \n",
       "1       7.652526         0.259064        9.862970         3.860656  \n",
       "2       6.938937         0.544188        0.032456         5.231173  \n",
       "3       7.369782         1.190598        1.233487         3.795608  \n",
       "4      10.783455         0.611342        1.901584         0.000425  "
      ]
     },
     "execution_count": 3,
     "metadata": {},
     "output_type": "execute_result"
    }
   ],
   "source": [
    "df_proc = pd.DataFrame()\n",
    "df_proc[\"id_produto\"] = df[\"id_produto\"]\n",
    "df_proc[\"tipo_produto\"] = df[\"tipo_produto\"]\n",
    "\n",
    "# Cálculo dos tempos de processamento\n",
    "df_proc[\"proc_corte\"] = (df[\"end_corte\"] - df[\"start_corte\"]).dt.total_seconds() / 60\n",
    "df_proc[\"proc_montagem\"] = (\n",
    "    df[\"end_montagem\"] - df[\"start_montagem\"]\n",
    ").dt.total_seconds() / 60\n",
    "df_proc[\"proc_pintura\"] = (\n",
    "    df[\"end_pintura\"] - df[\"start_pintura\"]\n",
    ").dt.total_seconds() / 60\n",
    "df_proc[\"proc_inspecao\"] = (\n",
    "    df[\"end_inspecao\"] - df[\"start_inspecao\"]\n",
    ").dt.total_seconds() / 60\n",
    "\n",
    "# Cálculo dos tempos de espera (fila)\n",
    "df_proc[\"espera_montagem\"] = (\n",
    "    df[\"start_montagem\"] - df[\"end_corte\"]\n",
    ").dt.total_seconds() / 60\n",
    "df_proc[\"espera_pintura\"] = (\n",
    "    df[\"start_pintura\"] - df[\"end_montagem\"]\n",
    ").dt.total_seconds() / 60\n",
    "df_proc[\"espera_inspecao\"] = (\n",
    "    df[\"start_inspecao\"] - df[\"end_pintura\"]\n",
    ").dt.total_seconds() / 60\n",
    "\n",
    "print(\"Dados Processados com Tempos de Ciclo e Espera (em minutos):\")\n",
    "df_proc.head()"
   ]
  },
  {
   "cell_type": "markdown",
   "metadata": {},
   "source": [
    "### Análise de Gargalo Geral\n",
    "\n",
    "Primeiro, vamos analisar o processo como um todo, sem distinguir os tipos de produto, para encontrar o gargalo médio."
   ]
  },
  {
   "cell_type": "code",
   "execution_count": 4,
   "metadata": {},
   "outputs": [
    {
     "name": "stderr",
     "output_type": "stream",
     "text": [
      "/tmp/ipykernel_40389/1075845598.py:25: UserWarning: set_ticklabels() should only be used with a fixed number of ticks, i.e. after set_ticks() or using a FixedLocator.\n",
      "  axs[0].set_xticklabels([\"Corte\", \"Montagem\", \"Pintura\", \"Inspeção\"])\n",
      "/tmp/ipykernel_40389/1075845598.py:32: UserWarning: set_ticklabels() should only be used with a fixed number of ticks, i.e. after set_ticks() or using a FixedLocator.\n",
      "  axs[1].set_xticklabels([\"Montagem\", \"Pintura\", \"Inspeção\"])\n"
     ]
    },
    {
     "data": {
      "image/png": "[encoded data removed]",
      "text/plain": [
       "<Figure size 2000x800 with 2 Axes>"
      ]
     },
     "metadata": {},
     "output_type": "display_data"
    }
   ],
   "source": [
    "# Preparando os dados para plotagem (formato longo)\n",
    "proc_times = df_proc.melt(\n",
    "    id_vars=[\"id_produto\", \"tipo_produto\"],\n",
    "    value_vars=[\"proc_corte\", \"proc_montagem\", \"proc_pintura\", \"proc_inspecao\"],\n",
    "    var_name=\"etapa\",\n",
    "    value_name=\"tempo_processamento\",\n",
    ")\n",
    "\n",
    "wait_times = df_proc.melt(\n",
    "    id_vars=[\"id_produto\", \"tipo_produto\"],\n",
    "    value_vars=[\"espera_montagem\", \"espera_pintura\", \"espera_inspecao\"],\n",
    "    var_name=\"etapa_seguinte\",\n",
    "    value_name=\"tempo_espera\",\n",
    ")\n",
    "\n",
    "fig, axs = plt.subplots(1, 2, figsize=(20, 8))\n",
    "\n",
    "# Boxplot dos Tempos de Processamento\n",
    "sns.boxplot(x=\"etapa\", y=\"tempo_processamento\", data=proc_times, ax=axs[0])\n",
    "axs[0].set_title(\n",
    "    \"Distribuição do Tempo de Processamento por Etapa (Geral)\", fontsize=16\n",
    ")\n",
    "axs[0].set_xlabel(\"Etapa do Processo\")\n",
    "axs[0].set_ylabel(\"Tempo (minutos)\")\n",
    "axs[0].set_xticklabels([\"Corte\", \"Montagem\", \"Pintura\", \"Inspeção\"])\n",
    "\n",
    "# Boxplot dos Tempos de Espera\n",
    "sns.boxplot(x=\"etapa_seguinte\", y=\"tempo_espera\", data=wait_times, ax=axs[1])\n",
    "axs[1].set_title(\"Distribuição do Tempo de Espera por Etapa (Geral)\", fontsize=16)\n",
    "axs[1].set_xlabel(\"Fila Antes da Etapa\")\n",
    "axs[1].set_ylabel(\"Tempo (minutos)\")\n",
    "axs[1].set_xticklabels([\"Montagem\", \"Pintura\", \"Inspeção\"])\n",
    "\n",
    "plt.tight_layout()"
   ]
  },
  {
   "cell_type": "markdown",
   "metadata": {},
   "source": [
    "**Interpretação da Análise Geral:**\n",
    "\n",
    "- **Tempo de Processamento:** O gráfico da esquerda mostra que, em média, as etapas de `Montagem` e `Pintura` são as mais demoradas, com uma grande variabilidade (caixas mais longas).\n",
    "- **Tempo de Espera:** O gráfico da direita é ainda mais revelador. Vemos tempos de espera (filas) significativamente maiores antes das etapas de `Pintura` e `Inspeção`. Um tempo de espera alto antes da `Pintura` significa que a Montagem está produzindo mais rápido do que a Pintura consegue absorver.\n",
    "\n",
    "A análise geral sugere que os gargalos estão em `Montagem` e `Pintura`, mas não nos diz quando cada um deles é o problema. Para isso, precisamos da análise condicional."
   ]
  },
  {
   "cell_type": "markdown",
   "metadata": {},
   "source": [
    "### Análise de Gargalo Condicional (por Tipo de Produto)\n",
    "\n",
    "Agora, vamos segmentar nossa análise para ver como o gargalo muda dependendo do produto que está sendo fabricado. Esta é a análise de maior valor para a gestão da produção."
   ]
  },
  {
   "cell_type": "code",
   "execution_count": 5,
   "metadata": {},
   "outputs": [
    {
     "name": "stdout",
     "output_type": "stream",
     "text": [
      "Tempo Médio de Processamento (min) por Tipo de Produto:\n"
     ]
    },
    {
     "data": {
      "text/html": [
       "<style type=\"text/css\">\n",
       "</style>\n",
       "<table id=\"T_7087f\">\n",
       "  <thead>\n",
       "    <tr>\n",
       "      <th class=\"blank level0\" >&nbsp;</th>\n",
       "      <th id=\"T_7087f_level0_col0\" class=\"col_heading level0 col0\" >proc_corte</th>\n",
       "      <th id=\"T_7087f_level0_col1\" class=\"col_heading level0 col1\" >proc_montagem</th>\n",
       "      <th id=\"T_7087f_level0_col2\" class=\"col_heading level0 col2\" >proc_pintura</th>\n",
       "      <th id=\"T_7087f_level0_col3\" class=\"col_heading level0 col3\" >proc_inspecao</th>\n",
       "    </tr>\n",
       "    <tr>\n",
       "      <th class=\"index_name level0\" >tipo_produto</th>\n",
       "      <th class=\"blank col0\" >&nbsp;</th>\n",
       "      <th class=\"blank col1\" >&nbsp;</th>\n",
       "      <th class=\"blank col2\" >&nbsp;</th>\n",
       "      <th class=\"blank col3\" >&nbsp;</th>\n",
       "    </tr>\n",
       "  </thead>\n",
       "  <tbody>\n",
       "    <tr>\n",
       "      <th id=\"T_7087f_level0_row0\" class=\"row_heading level0 row0\" >Produto_X</th>\n",
       "      <td id=\"T_7087f_row0_col0\" class=\"data row0 col0\" >9.96</td>\n",
       "      <td id=\"T_7087f_row0_col1\" class=\"data row0 col1\" >15.09</td>\n",
       "      <td id=\"T_7087f_row0_col2\" class=\"data row0 col2\" >30.09</td>\n",
       "      <td id=\"T_7087f_row0_col3\" class=\"data row0 col3\" >7.93</td>\n",
       "    </tr>\n",
       "    <tr>\n",
       "      <th id=\"T_7087f_level0_row1\" class=\"row_heading level0 row1\" >Produto_Y</th>\n",
       "      <td id=\"T_7087f_row1_col0\" class=\"data row1 col0\" >9.95</td>\n",
       "      <td id=\"T_7087f_row1_col1\" class=\"data row1 col1\" >24.89</td>\n",
       "      <td id=\"T_7087f_row1_col2\" class=\"data row1 col2\" >12.02</td>\n",
       "      <td id=\"T_7087f_row1_col3\" class=\"data row1 col3\" >7.95</td>\n",
       "    </tr>\n",
       "  </tbody>\n",
       "</table>\n"
      ],
      "text/plain": [
       "<pandas.io.formats.style.Styler at 0x7c066fc22660>"
      ]
     },
     "metadata": {},
     "output_type": "display_data"
    },
    {
     "name": "stderr",
     "output_type": "stream",
     "text": [
      "/tmp/ipykernel_40389/1103788745.py:9: FutureWarning: \n",
      "\n",
      "Passing `palette` without assigning `hue` is deprecated and will be removed in v0.14.0. Assign the `x` variable to `hue` and set `legend=False` for the same effect.\n",
      "\n",
      "  g = sns.catplot(\n"
     ]
    },
    {
     "data": {
      "text/plain": [
       "<seaborn.axisgrid.FacetGrid at 0x7c066fc223c0>"
      ]
     },
     "execution_count": 5,
     "metadata": {},
     "output_type": "execute_result"
    },
    {
     "data": {
      "image/png": "[encoded data removed]",
      "text/plain": [
       "<Figure size 1680x700 with 2 Axes>"
      ]
     },
     "metadata": {},
     "output_type": "display_data"
    }
   ],
   "source": [
    "# Calculando a média dos tempos de processamento agrupados por tipo de produto\n",
    "summary_by_product = df_proc.groupby(\"tipo_produto\")[\n",
    "    [\"proc_corte\", \"proc_montagem\", \"proc_pintura\", \"proc_inspecao\"]\n",
    "].mean()\n",
    "print(\"Tempo Médio de Processamento (min) por Tipo de Produto:\")\n",
    "display(summary_by_product.style.format(\"{:.2f}\"))\n",
    "\n",
    "# --- Visualização Chave: Gráfico de Barras Agrupado ---\n",
    "g = sns.catplot(\n",
    "    data=proc_times,\n",
    "    x=\"etapa\",\n",
    "    y=\"tempo_processamento\",\n",
    "    col=\"tipo_produto\",  # Cria um gráfico para cada tipo de produto\n",
    "    kind=\"bar\",  # ou 'box' para ver a distribuição completa\n",
    "    height=7,\n",
    "    aspect=1.2,\n",
    "    palette=\"viridis\",\n",
    ")\n",
    "\n",
    "g.fig.suptitle(\n",
    "    \"Análise de Gargalo por Condição Operacional (Tipo de Produto)\", fontsize=18, y=1.03\n",
    ")\n",
    "g.set_axis_labels(\"Etapa do Processo\", \"Tempo Médio de Processamento (min)\")\n",
    "g.set_xticklabels([\"Corte\", \"Montagem\", \"Pintura\", \"Inspeção\"])\n",
    "g.set_titles(\"Condição = {col_name}\")"
   ]
  },
  {
   "cell_type": "markdown",
   "metadata": {},
   "source": [
    "### Diagnóstico e Insights Acionáveis\n",
    "\n",
    "**Diagnóstico Final:**\n",
    "\n",
    "A análise condicional revela a dinâmica real da nossa linha de produção de forma cristalina:\n",
    "\n",
    "1.  **Para o Produto X:** O gráfico da esquerda mostra que a etapa de **`Pintura`** é, de longe, a mais demorada, com um tempo médio de ~30 minutos. **Este é o gargalo inequívoco quando se produz o Produto X.** Qualquer esforço para acelerar o corte ou a montagem não aumentará a produção final enquanto a pintura não for otimizada.\n",
    "\n",
    "2.  **Para o Produto Y:** A situação se inverte. O gráfico da direita mostra que a **`Montagem`** se torna a etapa crítica, com um tempo médio de ~25 minutos, enquanto a pintura é relativamente rápida. **A montagem é o gargalo claro para o Produto Y.**\n",
    "\n",
    "**Insights Acionáveis para a Gestão:**\n",
    "\n",
    "Esta análise permite que a equipe de engenharia e produção tome decisões baseadas em dados para alocar recursos de melhoria de forma inteligente:\n",
    "\n",
    "- **Planejamento de Produção:** Ao planejar uma semana de produção focada no `Produto X`, a gestão deve garantir que a equipe de `Pintura` esteja com capacidade máxima, com todos os recursos disponíveis e talvez com mão de obra extra alocada.\n",
    "\n",
    "- **Projetos de Melhoria Contínua (Kaizen/Lean):**\n",
    "    - Para melhorar a produção do `Produto X`, os projetos devem focar em **reduzir o tempo de ciclo da pintura**. Perguntas a serem feitas: O tempo de secagem pode ser reduzido? A preparação da peça pode ser mais rápida? Uma nova tecnologia de pintura seria viável?\n",
    "    - Para o `Produto Y`, os esforços devem se concentrar em **otimizar o processo de montagem**. Perguntas: O layout da estação de montagem é ergonômico? As ferramentas são adequadas? Há falta de componentes causando microparadas? O treinamento da equipe está em dia?\n",
    "\n",
    "- **Investimentos Estratégicos:** Se a demanda por ambos os produtos for alta, a empresa pode justificar o investimento em uma nova cabine de pintura (para o gargalo do Produto X) e em uma nova estação de montagem automatizada (para o gargalo do Produto Y). A análise quantifica o tempo perdido em cada gargalo, ajudando a calcular o Retorno Sobre o Investimento (ROI) para esses projetos."
   ]
  }
 ],
 "metadata": {
  "kernelspec": {
   "display_name": "env",
   "language": "python",
   "name": "python3"
  },
  "language_info": {
   "codemirror_mode": {
    "name": "ipython",
    "version": 3
   },
   "file_extension": ".py",
   "mimetype": "text/x-python",
   "name": "python",
   "nbconvert_exporter": "python",
   "pygments_lexer": "ipython3",
   "version": "3.13.5"
  }
 },
 "nbformat": 4,
 "nbformat_minor": 5
}
